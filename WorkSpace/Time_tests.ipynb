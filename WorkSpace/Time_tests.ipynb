{
 "cells": [
  {
   "cell_type": "code",
   "execution_count": 9,
   "metadata": {},
   "outputs": [
    {
     "name": "stdout",
     "output_type": "stream",
     "text": [
      "[[ 1.00000000e+00  6.66133815e-16  4.44089210e-16  1.11022302e-16]\n",
      " [ 1.11022302e-16  1.00000000e+00  2.22044605e-16 -1.11022302e-16]\n",
      " [-3.33066907e-16 -1.11022302e-16  1.00000000e+00  1.11022302e-16]\n",
      " [ 2.77555756e-17  1.94289029e-16  0.00000000e+00  1.00000000e+00]]\n"
     ]
    }
   ],
   "source": [
    "import numpy as np\n",
    "import pandas as pd\n",
    "\n",
    "\n",
    "\n",
    "matrix_a = np.random.randint(0,10,(4,4))\n",
    "\n",
    "matrix_b = np.random.randint(0,10,(4,4))\n",
    "\n",
    "\n",
    "\n",
    "def matrix_multiplction_n_times(matrix_a, matrix_b):\n",
    "    A_time_B = np.dot(matrix_a, matrix_b)\n",
    "    return A_time_B\n",
    "\n",
    "\n",
    "A_time_B = matrix_multiplction_n_times(matrix_a, matrix_b)\n",
    "\n",
    "\n",
    "\n",
    "\n",
    "\n",
    "def inverse_matrix():\n",
    "    matrix_A_inverse = np.linalg.inv(matrix_a)\n",
    "\n",
    "    return matrix_A_inverse\n",
    "\n",
    "\n",
    "matrix_A_inverse= inverse_matrix()\n",
    "\n",
    "proof_of_inverse = matrix_A_inverse.dot(matrix_a)\n",
    "\n",
    "\n",
    "# wite the proof to txt file\n",
    "\n",
    "\n",
    "print (proof_of_inverse)"
   ]
  },
  {
   "cell_type": "code",
   "execution_count": null,
   "metadata": {},
   "outputs": [],
   "source": []
  }
 ],
 "metadata": {
  "interpreter": {
   "hash": "cae3fe18058432ee9b1a43e72ad8dbfe388322eb039df7572bf6f27e70fb9470"
  },
  "kernelspec": {
   "display_name": "Python 3.9.10 64-bit (windows store)",
   "language": "python",
   "name": "python3"
  },
  "language_info": {
   "codemirror_mode": {
    "name": "ipython",
    "version": 3
   },
   "file_extension": ".py",
   "mimetype": "text/x-python",
   "name": "python",
   "nbconvert_exporter": "python",
   "pygments_lexer": "ipython3",
   "version": "3.9.10"
  },
  "orig_nbformat": 4
 },
 "nbformat": 4,
 "nbformat_minor": 2
}

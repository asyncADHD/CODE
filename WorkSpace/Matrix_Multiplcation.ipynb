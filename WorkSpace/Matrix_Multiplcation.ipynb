{
 "cells": [
  {
   "cell_type": "code",
   "execution_count": 1,
   "metadata": {},
   "outputs": [
    {
     "name": "stdout",
     "output_type": "stream",
     "text": [
      "[[0.71181182 0.58450839 0.23162822 ... 0.40346372 0.52250756 0.84100449]\n",
      " [0.83820853 0.82273982 0.47953426 ... 0.35570183 0.92062335 0.52821345]\n",
      " [0.73148342 0.06801671 0.69276677 ... 0.59152429 0.46802768 0.41710366]\n",
      " ...\n",
      " [0.72021095 0.38585308 0.93700289 ... 0.09724025 0.02063146 0.94104292]\n",
      " [0.60924736 0.41748892 0.80760243 ... 0.65488143 0.246702   0.3945395 ]\n",
      " [0.06016351 0.18465682 0.95013021 ... 0.13011955 0.54630341 0.03208905]]\n",
      "\n",
      "\n",
      "[[0.72497586 0.4882474  0.32133698 ... 0.90104286 0.86572068 0.46723359]\n",
      " [0.60369086 0.97465408 0.71227291 ... 0.60797577 0.15226035 0.86112801]\n",
      " [0.94476455 0.66259096 0.93256493 ... 0.66507371 0.07355873 0.7910604 ]\n",
      " ...\n",
      " [0.6974414  0.69485555 0.745912   ... 0.76913908 0.80315106 0.33023886]\n",
      " [0.91513128 0.91744282 0.32140713 ... 0.5484923  0.416594   0.78630524]\n",
      " [0.48959099 0.12082197 0.07295444 ... 0.68054161 0.53027858 0.96210681]]\n",
      "\n",
      "\n",
      "[[25.03867098 22.52736826 25.69646772 ... 24.19024555 25.61715345\n",
      "  27.38373089]\n",
      " [25.52208247 25.00160909 27.21430318 ... 24.68059659 25.57686123\n",
      "  27.10769118]\n",
      " [25.44062776 25.05330258 25.3100708  ... 27.214973   27.42696127\n",
      "  26.77489959]\n",
      " ...\n",
      " [25.71490793 22.44423847 28.06690288 ... 25.4508238  26.41239826\n",
      "  27.80948741]\n",
      " [23.47017202 21.97437254 24.95063856 ... 23.60065563 22.93128091\n",
      "  24.99084611]\n",
      " [23.46951557 23.89947717 26.43322191 ... 22.98677554 24.5942134\n",
      "  25.49307203]]\n",
      "\n",
      "\n",
      "[[-0.94170333  0.87014658 -0.38541391 ...  0.7054156  -0.59768491\n",
      "  -0.37292059]\n",
      " [ 4.27565825 -4.11631863  5.16885605 ... -0.64890179  2.71520223\n",
      "  -2.17031953]\n",
      " [-2.48864842  2.70159139 -2.58797902 ...  0.72191151 -1.67015259\n",
      "   0.49343467]\n",
      " ...\n",
      " [ 1.6362133  -0.76223785  1.32577447 ... -0.53514982  0.88987499\n",
      "  -0.13574522]\n",
      " [ 4.23557746 -3.15688728  5.79780593 ...  1.14905671  2.061175\n",
      "  -4.27938649]\n",
      " [-5.10278417  4.57757951 -4.40745785 ...  1.51562856 -3.19832022\n",
      "   1.9815117 ]]\n",
      "\n",
      "\n"
     ]
    }
   ],
   "source": [
    "import pandas as pd\n",
    "import numpy as np\n",
    "import time \n",
    "\n",
    "\n",
    "def martrix_gen(n):\n",
    "    '''\n",
    "    Generate a martrix with n rows and n columns\n",
    "    '''\n",
    "    return np.random.rand(n,n)\n",
    "\n",
    "0\n",
    "\n",
    "def matrix_mult(m1,m2):\n",
    "    '''\n",
    "    Multiply two martrix\n",
    "    '''\n",
    "    return np.dot(m1,m2)\n",
    "\n",
    "Matrix_A = martrix_gen(100)\n",
    "Matrix_B = martrix_gen(100)\n",
    "Product_matrix = matrix_mult(Matrix_A,Matrix_B)\n",
    "\n",
    "\n",
    "\n",
    "def matrix_inverse(m):\n",
    "    '''\n",
    "    Inverse martrix\n",
    "    '''\n",
    "    return np.linalg.inv(m)\n",
    "\n",
    "\n",
    "write_Product_matrix_to_csv = pd.DataFrame(Product_matrix)\n",
    "# write_Product_matrix_to_csv.to_csv(\"Product_matrix.csv\")\n",
    "\n",
    "\n",
    "print (Matrix_A)\n",
    "print ('\\n')\n",
    "print (Matrix_B)\n",
    "print ('\\n')\n",
    "print (Product_matrix)\n",
    "print ('\\n')\n",
    "print (matrix_inverse(Product_matrix))\n",
    "print ('\\n')\n",
    "\n",
    "\n"
   ]
  },
  {
   "cell_type": "code",
   "execution_count": null,
   "metadata": {},
   "outputs": [],
   "source": []
  },
  {
   "cell_type": "code",
   "execution_count": null,
   "metadata": {},
   "outputs": [],
   "source": []
  },
  {
   "cell_type": "code",
   "execution_count": null,
   "metadata": {},
   "outputs": [],
   "source": []
  },
  {
   "cell_type": "code",
   "execution_count": null,
   "metadata": {},
   "outputs": [],
   "source": []
  },
  {
   "cell_type": "code",
   "execution_count": null,
   "metadata": {},
   "outputs": [],
   "source": []
  },
  {
   "cell_type": "code",
   "execution_count": null,
   "metadata": {},
   "outputs": [],
   "source": []
  }
 ],
 "metadata": {
  "interpreter": {
   "hash": "cae3fe18058432ee9b1a43e72ad8dbfe388322eb039df7572bf6f27e70fb9470"
  },
  "kernelspec": {
   "display_name": "Python 3.9.9 64-bit (windows store)",
   "language": "python",
   "name": "python3"
  },
  "language_info": {
   "codemirror_mode": {
    "name": "ipython",
    "version": 3
   },
   "file_extension": ".py",
   "mimetype": "text/x-python",
   "name": "python",
   "nbconvert_exporter": "python",
   "pygments_lexer": "ipython3",
   "version": "3.9.10"
  },
  "orig_nbformat": 4
 },
 "nbformat": 4,
 "nbformat_minor": 2
}

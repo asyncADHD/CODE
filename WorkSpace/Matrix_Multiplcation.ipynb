{
 "cells": [
  {
   "cell_type": "code",
   "execution_count": 8,
   "metadata": {},
   "outputs": [
    {
     "name": "stdout",
     "output_type": "stream",
     "text": [
      "[[0.64284272 0.75507752]\n",
      " [0.42537044 0.25492422]]\n",
      "\n",
      "\n",
      "[[0.4163591  0.35732466]\n",
      " [0.35278799 0.99198451]]\n",
      "\n",
      "\n",
      "[[0.5340357  0.97872876]\n",
      " [0.26704105 0.40487622]]\n",
      "\n",
      "\n",
      "[[ -8.96886681  21.68091746]\n",
      " [  5.91552562 -11.83002317]]\n",
      "\n",
      "\n"
     ]
    }
   ],
   "source": [
    "import pandas as pd\n",
    "import numpy as np\n",
    "import time \n",
    "\n",
    "\n",
    "def martrix_gen(n):\n",
    "    '''\n",
    "    Generate a martrix with n rows and n columns\n",
    "    '''\n",
    "    return np.random.rand(n,n)\n",
    "\n",
    "\n",
    "\n",
    "def matrix_mult(m1,m2):\n",
    "    '''\n",
    "    Multiply two martrix\n",
    "    '''\n",
    "    return np.dot(m1,m2)\n",
    "\n",
    "Matrix_A = martrix_gen(2)\n",
    "Matrix_B = martrix_gen(2)\n",
    "Product_matrix = matrix_mult(Matrix_A,Matrix_B)\n",
    "\n",
    "\n",
    "\n",
    "def matrix_inverse(m):\n",
    "    '''\n",
    "    Inverse martrix\n",
    "    '''\n",
    "    return np.linalg.inv(m)\n",
    "\n",
    "\n",
    "write_Product_matrix_to_csv = pd.DataFrame(Product_matrix)\n",
    "# write_Product_matrix_to_csv.to_csv(\"Product_matrix.csv\")\n",
    "\n",
    "\n",
    "print (Matrix_A)\n",
    "print ('\\n')\n",
    "print (Matrix_B)\n",
    "print ('\\n')\n",
    "print (Product_matrix)\n",
    "print ('\\n')\n",
    "print (matrix_inverse(Product_matrix))\n",
    "print ('\\n')\n",
    "\n",
    "\n"
   ]
  },
  {
   "cell_type": "code",
   "execution_count": 9,
   "metadata": {},
   "outputs": [
    {
     "data": {
      "text/html": [
       "<div>\n",
       "<style scoped>\n",
       "    .dataframe tbody tr th:only-of-type {\n",
       "        vertical-align: middle;\n",
       "    }\n",
       "\n",
       "    .dataframe tbody tr th {\n",
       "        vertical-align: top;\n",
       "    }\n",
       "\n",
       "    .dataframe thead th {\n",
       "        text-align: right;\n",
       "    }\n",
       "</style>\n",
       "<table border=\"1\" class=\"dataframe\">\n",
       "  <thead>\n",
       "    <tr style=\"text-align: right;\">\n",
       "      <th></th>\n",
       "      <th>0</th>\n",
       "      <th>1</th>\n",
       "    </tr>\n",
       "  </thead>\n",
       "  <tbody>\n",
       "    <tr>\n",
       "      <th>0</th>\n",
       "      <td>0.534036</td>\n",
       "      <td>0.978729</td>\n",
       "    </tr>\n",
       "    <tr>\n",
       "      <th>1</th>\n",
       "      <td>0.267041</td>\n",
       "      <td>0.404876</td>\n",
       "    </tr>\n",
       "  </tbody>\n",
       "</table>\n",
       "</div>"
      ],
      "text/plain": [
       "          0         1\n",
       "0  0.534036  0.978729\n",
       "1  0.267041  0.404876"
      ]
     },
     "execution_count": 9,
     "metadata": {},
     "output_type": "execute_result"
    }
   ],
   "source": [
    "# display the two martrix\n",
    "\n",
    "\n",
    "# display the product martrix\n",
    "df_1 = pd.DataFrame(Product_matrix)\n",
    "df_2 = pd.DataFrame(matrix_inverse(Product_matrix))\n",
    "\n",
    "df_1.head()\n"
   ]
  },
  {
   "cell_type": "code",
   "execution_count": 10,
   "metadata": {},
   "outputs": [
    {
     "data": {
      "text/html": [
       "<div>\n",
       "<style scoped>\n",
       "    .dataframe tbody tr th:only-of-type {\n",
       "        vertical-align: middle;\n",
       "    }\n",
       "\n",
       "    .dataframe tbody tr th {\n",
       "        vertical-align: top;\n",
       "    }\n",
       "\n",
       "    .dataframe thead th {\n",
       "        text-align: right;\n",
       "    }\n",
       "</style>\n",
       "<table border=\"1\" class=\"dataframe\">\n",
       "  <thead>\n",
       "    <tr style=\"text-align: right;\">\n",
       "      <th></th>\n",
       "      <th>0</th>\n",
       "      <th>1</th>\n",
       "    </tr>\n",
       "  </thead>\n",
       "  <tbody>\n",
       "    <tr>\n",
       "      <th>0</th>\n",
       "      <td>-8.968867</td>\n",
       "      <td>21.680917</td>\n",
       "    </tr>\n",
       "    <tr>\n",
       "      <th>1</th>\n",
       "      <td>5.915526</td>\n",
       "      <td>-11.830023</td>\n",
       "    </tr>\n",
       "  </tbody>\n",
       "</table>\n",
       "</div>"
      ],
      "text/plain": [
       "          0          1\n",
       "0 -8.968867  21.680917\n",
       "1  5.915526 -11.830023"
      ]
     },
     "execution_count": 10,
     "metadata": {},
     "output_type": "execute_result"
    }
   ],
   "source": [
    "df_2.head()"
   ]
  },
  {
   "cell_type": "code",
   "execution_count": null,
   "metadata": {},
   "outputs": [],
   "source": []
  },
  {
   "cell_type": "code",
   "execution_count": null,
   "metadata": {},
   "outputs": [],
   "source": []
  },
  {
   "cell_type": "code",
   "execution_count": null,
   "metadata": {},
   "outputs": [],
   "source": []
  },
  {
   "cell_type": "code",
   "execution_count": null,
   "metadata": {},
   "outputs": [],
   "source": []
  }
 ],
 "metadata": {
  "interpreter": {
   "hash": "cae3fe18058432ee9b1a43e72ad8dbfe388322eb039df7572bf6f27e70fb9470"
  },
  "kernelspec": {
   "display_name": "Python 3.9.9 64-bit (windows store)",
   "language": "python",
   "name": "python3"
  },
  "language_info": {
   "codemirror_mode": {
    "name": "ipython",
    "version": 3
   },
   "file_extension": ".py",
   "mimetype": "text/x-python",
   "name": "python",
   "nbconvert_exporter": "python",
   "pygments_lexer": "ipython3",
   "version": "3.9.7"
  },
  "orig_nbformat": 4
 },
 "nbformat": 4,
 "nbformat_minor": 2
}
